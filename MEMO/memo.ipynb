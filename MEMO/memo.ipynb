{
 "cells": [
  {
   "attachments": {},
   "cell_type": "markdown",
   "metadata": {},
   "source": [
    "# MEMO\n",
    "## Derivation of local minimum of hard sphere theory\n",
    "The coagulation rate coefficient of nanoclusters $i$ and $j$ in hard sphere theory is:\n",
    "\n",
    "$$\n",
    "\\beta_{ij}=\\bar{v}_{ij}A_{ij}\n",
    "$$\n",
    "\n",
    "where, $\\bar{v}_{ij}$ is nanoclusters relative mean thermal speed and $A_{ij}$ is the nanoclustes collision cross section which is described:\n",
    "\n",
    "$$\n",
    "\\bar{v}_{ij}=\\sqrt{\\frac{8k_{b}T}{\\pi m_{ij}}}\\\\\n",
    "A_{ij}=\\frac{\\pi a_{ij}^2}{4}\n",
    "$$\n",
    "\n",
    "where, $k_{b}$ is the Boltzumann constant, T is the temperature, $m_{ij}$ is the reduced mass ($\\frac{1}{m_{ij}}$=$\\frac{1}{m_{i}}+\\frac{1}{m_{i}}$), and  $a_{ij}$  is the collision distance ($a_{ij}=\\frac{D_{p,i}+D_{p,j}}{2}$). When the nanoclusters are spherical, its masses, ${m_{i}}$ and ${m_{j}}$ are described to $\\rho \\frac{\\pi D_{p,i}^3}{6}$ and $\\rho \\frac{\\pi D_{p,j}^3}{6}$ with the nanocluster density, $\\rho$. Substituting above equaitons into first equation yields:\n",
    "\n",
    "$$\n",
    "\\begin{aligned}\n",
    "\\beta_{ij}&=\\frac{\\pi\\left(D_{p,i}+D_{p,j}\\right)^2}{16}\n",
    "    \\sqrt{\\frac{8k_{b}T}{\\pi}\\left(\\frac{6}{\\rho\\pi D_{p,i}^3}+\\frac{6}{\\rho\\pi D_{p,j}^3}\\right)}\\\\\n",
    "    &=\\frac{\\left(D_{p,i}+D_{p,j}\\right)^2}{4}\n",
    "    \\sqrt{\\frac{3k_{b}T}{\\rho}\\left(\\frac{1}{D_{p,i}^3}+\\frac{1}{D_{p,j}^3}\\right)}\n",
    "\\end{aligned}\n",
    "$$\n",
    "\n",
    "The differentiation of $\\beta_{ij}$ with respect to $D_{p,j}$ is:\n",
    "\n",
    "$$\n",
    "\\begin{aligned}\n",
    "    \\frac{\\partial \\beta_{ij}}{\\partial D_{p,j}}&=\n",
    "    \\frac{\\left(D_{p,i}+D_{p,j}\\right)}{2}\n",
    "    \\sqrt{\\frac{3k_{b}T}{\\rho}\\left(\\frac{1}{D_{p,i}^3}+\\frac{1}{D_{p,j}^3}\\right)} \\\\\n",
    "    &+\n",
    "    \\frac{\\left(D_{p,i}+D_{p,j}\\right)^2}{4}\n",
    "    \\sqrt{\\frac{3k_{b}T}{\\rho}}\\left(\\frac{1}{D_{p,i}^3}+\\frac{1}{D_{p,j}^3}\\right)^{-1/2}\n",
    "    \\frac{\\partial}{\\partial D_{p,j}}\n",
    "    \\left(\\frac{1}{D_{p,i}^3}+\\frac{1}{D_{p,j}^3}\\right)\\\\\n",
    "    &=\n",
    "    \\frac{\\left(D_{p,i}+D_{p,j}\\right)}{2}\n",
    "    \\sqrt{\\frac{3k_{b}T}{\\rho}\\left(\\frac{1}{D_{p,i}^3}+\\frac{1}{D_{p,j}^3}\\right)} \n",
    "    -\n",
    "    \\frac{3\\left(D_{p,i}+D_{p,j}\\right)^2}{8D_{p,j}^4}\n",
    "    \\sqrt{\\frac{3k_{b}T}{\\rho}}\\left(\\frac{1}{D_{p,i}^3}+\\frac{1}{D_{p,j}^3}\\right)^{-1/2}\n",
    "\\end{aligned}\n",
    "$$\n",
    "\n",
    "The local minimum is obtained when the derivative is equal to zero ($\\frac{\\partial \\beta_{ij}}{\\partial D_{p,j}}=0$), hence below relation is able to be yielded:\n",
    "\n",
    "$$\n",
    "    \\frac{\\left(D_{p,i}+D_{p,j}\\right)}{2}\n",
    "    \\sqrt{\\frac{3k_{b}T}{\\rho}\\left(\\frac{1}{D_{p,i}^3}+\\frac{1}{D_{p,j}^3}\\right)} \n",
    "    -\n",
    "    \\frac{3\\left(D_{p,i}+D_{p,j}\\right)^2}{4D_{p,j}^4}\n",
    "    \\sqrt{\\frac{3k_{b}T}{\\rho}}\\left(\\frac{1}{D_{p,i}^3}+\\frac{1}{D_{p,j}^3}\\right)^{-1/2}=0\\\\\n",
    "$$\n",
    "\n",
    "Deviding this equation with $\\frac{\\left(D_{p,i}+D_{p,j}\\right)}{2}\\sqrt{\\frac{3k_{b}T}{\\rho}}$ and multiplying $\\sqrt{\\left(\\frac{1}{D_{p,i}^3}+\\frac{1}{D_{p,j}^3}\\right)}$ yields:\n",
    "\n",
    "$$\n",
    "    \\left(\\frac{1}{D_{p,i}^3}+\\frac{1}{D_{p,j}^3}\\right)-\n",
    "    \\frac{3\\left(D_{p,i}+D_{p,j}\\right)}{4D_{p,j}^4}=0\\\\\n",
    "    \\left(\\frac{D_{p,j}^3}{D_{p,i}^3}+1\\right)-\n",
    "    \\frac{3\\left(D_{p,i}+D_{p,j}\\right)}{4D_{p,j}}=0\\\\\n",
    "    \\left(\\frac{D_{p,j}}{D_{p,i}}\\right)^3+\\frac{1}{4}-\n",
    "    \\frac{3D_{p,i}}{4D_{p,j}}=0\n",
    "$$\n",
    "\n"
   ]
  },
  {
   "cell_type": "code",
   "execution_count": 2,
   "metadata": {},
   "outputs": [
    {
     "data": {
      "image/png": "[encoded data removed]",
      "text/plain": [
       "<Figure size 640x480 with 1 Axes>"
      ]
     },
     "metadata": {},
     "output_type": "display_data"
    }
   ],
   "source": [
    "import numpy as np\n",
    "import matplotlib.pylab as plt\n",
    "\n",
    "dpdp=np.linspace(0.001,1,1000)\n",
    "y=dpdp**3+0.25-0.75/dpdp\n",
    "\n",
    "plt.plot(dpdp,y**2)\n",
    "plt.yscale(\"log\")\n",
    "plt.show()"
   ]
  },
  {
   "cell_type": "code",
   "execution_count": null,
   "metadata": {},
   "outputs": [],
   "source": []
  }
 ],
 "metadata": {
  "kernelspec": {
   "display_name": "Python 3",
   "language": "python",
   "name": "python3"
  },
  "language_info": {
   "codemirror_mode": {
    "name": "ipython",
    "version": 3
   },
   "file_extension": ".py",
   "mimetype": "text/x-python",
   "name": "python",
   "nbconvert_exporter": "python",
   "pygments_lexer": "ipython3",
   "version": "3.8.10"
  },
  "orig_nbformat": 4,
  "vscode": {
   "interpreter": {
    "hash": "e7370f93d1d0cde622a1f8e1c04877d8463912d04d973331ad4851f04de6915a"
   }
  }
 },
 "nbformat": 4,
 "nbformat_minor": 2
}
